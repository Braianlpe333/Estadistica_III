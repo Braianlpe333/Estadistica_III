{
 "cells": [
  {
   "cell_type": "code",
   "execution_count": 1,
   "id": "930944a5",
   "metadata": {},
   "outputs": [],
   "source": [
    "import numpy as np\n",
    "import matplotlib.pyplot as plt\n",
    "import pandas as pd\n",
    "from sklearn.cluster import KMeans\n",
    "from sklearn.preprocessing import MinMaxScaler\n",
    "import warnings\n",
    "warnings.filterwarnings(\"ignore\")\n",
    "%matplotlib inline"
   ]
  },
  {
   "cell_type": "raw",
   "id": "09efd5b3",
   "metadata": {},
   "source": []
  },
  {
   "cell_type": "markdown",
   "id": "2ffec451",
   "metadata": {},
   "source": [
    "#data = pd.read_csv('Punto1.csv')\n",
    "\"\"\"from sklearn.cluster import KMeans\n",
    "x1= np.array([1,1,0,5,6,4])\n",
    "x2= np.array([4,3,4,1,2,0])\n",
    "Matriz = np.array((x1,x2))\"\"\"\n",
    "#Matriz=pd.read_csv('C:/Users/user/Documents/Estadistica3/UCO_ML_AI-master/src/notebook_class/exploracion/Punto1.csv')\n",
    "Matriz = pd.read_csv(\"Punto1.csv\")\n",
    "X= dataset.iloc[:, [3,4]].values"
   ]
  },
  {
   "cell_type": "code",
   "execution_count": 4,
   "id": "eeaf95f9",
   "metadata": {},
   "outputs": [
    {
     "data": {
      "text/html": [
       "<div>\n",
       "<style scoped>\n",
       "    .dataframe tbody tr th:only-of-type {\n",
       "        vertical-align: middle;\n",
       "    }\n",
       "\n",
       "    .dataframe tbody tr th {\n",
       "        vertical-align: top;\n",
       "    }\n",
       "\n",
       "    .dataframe thead th {\n",
       "        text-align: right;\n",
       "    }\n",
       "</style>\n",
       "<table border=\"1\" class=\"dataframe\">\n",
       "  <thead>\n",
       "    <tr style=\"text-align: right;\">\n",
       "      <th></th>\n",
       "      <th>x1</th>\n",
       "      <th>x2</th>\n",
       "    </tr>\n",
       "  </thead>\n",
       "  <tbody>\n",
       "    <tr>\n",
       "      <th>0</th>\n",
       "      <td>1</td>\n",
       "      <td>4</td>\n",
       "    </tr>\n",
       "    <tr>\n",
       "      <th>1</th>\n",
       "      <td>1</td>\n",
       "      <td>3</td>\n",
       "    </tr>\n",
       "    <tr>\n",
       "      <th>2</th>\n",
       "      <td>0</td>\n",
       "      <td>4</td>\n",
       "    </tr>\n",
       "    <tr>\n",
       "      <th>3</th>\n",
       "      <td>5</td>\n",
       "      <td>1</td>\n",
       "    </tr>\n",
       "    <tr>\n",
       "      <th>4</th>\n",
       "      <td>6</td>\n",
       "      <td>2</td>\n",
       "    </tr>\n",
       "  </tbody>\n",
       "</table>\n",
       "</div>"
      ],
      "text/plain": [
       "   x1  x2\n",
       "0   1   4\n",
       "1   1   3\n",
       "2   0   4\n",
       "3   5   1\n",
       "4   6   2"
      ]
     },
     "execution_count": 4,
     "metadata": {},
     "output_type": "execute_result"
    }
   ],
   "source": [
    "#data = pd.read_csv('Punto1.csv')\n",
    "\"\"\"from sklearn.cluster import KMeans\n",
    "x1= np.array([1,1,0,5,6,4])\n",
    "x2= np.array([4,3,4,1,2,0])\n",
    "Matriz = np.array((x1,x2))\"\"\"\n",
    "#Matriz=pd.read_csv('C:/Users/user/Documents/Estadistica3/UCO_ML_AI-master/src/notebook_class/exploracion/Punto1.csv')\n",
    "Matriz = pd.read_csv(\"Punto1.csv\")\n",
    "X= Matriz.iloc[:, [0,1]].values\n",
    "Matriz.head()"
   ]
  },
  {
   "cell_type": "code",
   "execution_count": 5,
   "id": "4afa52be",
   "metadata": {},
   "outputs": [
    {
     "data": {
      "text/html": [
       "<div>\n",
       "<style scoped>\n",
       "    .dataframe tbody tr th:only-of-type {\n",
       "        vertical-align: middle;\n",
       "    }\n",
       "\n",
       "    .dataframe tbody tr th {\n",
       "        vertical-align: top;\n",
       "    }\n",
       "\n",
       "    .dataframe thead th {\n",
       "        text-align: right;\n",
       "    }\n",
       "</style>\n",
       "<table border=\"1\" class=\"dataframe\">\n",
       "  <thead>\n",
       "    <tr style=\"text-align: right;\">\n",
       "      <th></th>\n",
       "      <th>x1</th>\n",
       "      <th>x2</th>\n",
       "    </tr>\n",
       "  </thead>\n",
       "  <tbody>\n",
       "    <tr>\n",
       "      <th>count</th>\n",
       "      <td>6.000000</td>\n",
       "      <td>6.000000</td>\n",
       "    </tr>\n",
       "    <tr>\n",
       "      <th>mean</th>\n",
       "      <td>2.833333</td>\n",
       "      <td>2.333333</td>\n",
       "    </tr>\n",
       "    <tr>\n",
       "      <th>std</th>\n",
       "      <td>2.483277</td>\n",
       "      <td>1.632993</td>\n",
       "    </tr>\n",
       "    <tr>\n",
       "      <th>min</th>\n",
       "      <td>0.000000</td>\n",
       "      <td>0.000000</td>\n",
       "    </tr>\n",
       "    <tr>\n",
       "      <th>25%</th>\n",
       "      <td>1.000000</td>\n",
       "      <td>1.250000</td>\n",
       "    </tr>\n",
       "    <tr>\n",
       "      <th>50%</th>\n",
       "      <td>2.500000</td>\n",
       "      <td>2.500000</td>\n",
       "    </tr>\n",
       "    <tr>\n",
       "      <th>75%</th>\n",
       "      <td>4.750000</td>\n",
       "      <td>3.750000</td>\n",
       "    </tr>\n",
       "    <tr>\n",
       "      <th>max</th>\n",
       "      <td>6.000000</td>\n",
       "      <td>4.000000</td>\n",
       "    </tr>\n",
       "  </tbody>\n",
       "</table>\n",
       "</div>"
      ],
      "text/plain": [
       "             x1        x2\n",
       "count  6.000000  6.000000\n",
       "mean   2.833333  2.333333\n",
       "std    2.483277  1.632993\n",
       "min    0.000000  0.000000\n",
       "25%    1.000000  1.250000\n",
       "50%    2.500000  2.500000\n",
       "75%    4.750000  3.750000\n",
       "max    6.000000  4.000000"
      ]
     },
     "execution_count": 5,
     "metadata": {},
     "output_type": "execute_result"
    }
   ],
   "source": [
    "Matriz.describe()"
   ]
  },
  {
   "cell_type": "code",
   "execution_count": 6,
   "id": "46d6986b",
   "metadata": {},
   "outputs": [],
   "source": [
    "#plt.scatter(Matriz[:,0], Matriz[:,1])"
   ]
  },
  {
   "cell_type": "code",
   "execution_count": 14,
   "id": "bbec0e68",
   "metadata": {},
   "outputs": [],
   "source": [
    "\n",
    "#centroids=kmeans.cluster_centers_\n",
    "\"\"\"clustering = KMeans(n_clusters = 2, max_iter = 300)\n",
    "clustering.fit(Matriz)\"\"\"\n",
    "kmeans = KMeans(n_clusters=2, init=\"k-means++\", random_state=42)\n",
    "y_kmeans = kmeans.fit_predict(X)"
   ]
  },
  {
   "cell_type": "code",
   "execution_count": 15,
   "id": "4d475f58",
   "metadata": {},
   "outputs": [
    {
     "data": {
      "text/plain": [
       "\"Matriz['KMeans_Clusters'] = clustering.labels_\\nMatriz.head()\""
      ]
     },
     "execution_count": 15,
     "metadata": {},
     "output_type": "execute_result"
    }
   ],
   "source": [
    "#Kmeans = Kmeans(n_clusters=2, init'Kmeans++', n_init=10, max_iters=300, random_state=0)\n",
    "\"\"\"Matriz['KMeans_Clusters'] = clustering.labels_\n",
    "Matriz.head()\"\"\""
   ]
  },
  {
   "cell_type": "code",
   "execution_count": 17,
   "id": "08b61f5f",
   "metadata": {},
   "outputs": [
    {
     "ename": "AttributeError",
     "evalue": "'KMeans' object has no attribute 'cluster_center_'",
     "output_type": "error",
     "traceback": [
      "\u001b[1;31m---------------------------------------------------------------------------\u001b[0m",
      "\u001b[1;31mAttributeError\u001b[0m                            Traceback (most recent call last)",
      "Cell \u001b[1;32mIn[17], line 11\u001b[0m\n\u001b[0;32m      9\u001b[0m plt\u001b[38;5;241m.\u001b[39mscatter(X[y_kmeans \u001b[38;5;241m==\u001b[39m \u001b[38;5;241m0\u001b[39m,\u001b[38;5;241m0\u001b[39m], X[y_kmeans \u001b[38;5;241m==\u001b[39m \u001b[38;5;241m0\u001b[39m,\u001b[38;5;241m1\u001b[39m], s\u001b[38;5;241m=\u001b[39m\u001b[38;5;241m50\u001b[39m, c\u001b[38;5;241m=\u001b[39m\u001b[38;5;124m'\u001b[39m\u001b[38;5;124mred\u001b[39m\u001b[38;5;124m'\u001b[39m, label\u001b[38;5;241m=\u001b[39m\u001b[38;5;124m'\u001b[39m\u001b[38;5;124mx1\u001b[39m\u001b[38;5;124m'\u001b[39m)\n\u001b[0;32m     10\u001b[0m plt\u001b[38;5;241m.\u001b[39mscatter(X[y_kmeans \u001b[38;5;241m==\u001b[39m \u001b[38;5;241m1\u001b[39m,\u001b[38;5;241m0\u001b[39m], X[y_kmeans \u001b[38;5;241m==\u001b[39m \u001b[38;5;241m1\u001b[39m,\u001b[38;5;241m1\u001b[39m], s\u001b[38;5;241m=\u001b[39m\u001b[38;5;241m50\u001b[39m, c\u001b[38;5;241m=\u001b[39m\u001b[38;5;124m'\u001b[39m\u001b[38;5;124mblue\u001b[39m\u001b[38;5;124m'\u001b[39m, label\u001b[38;5;241m=\u001b[39m\u001b[38;5;124m'\u001b[39m\u001b[38;5;124mx1\u001b[39m\u001b[38;5;124m'\u001b[39m)\n\u001b[1;32m---> 11\u001b[0m plt\u001b[38;5;241m.\u001b[39mscatter(kmeans\u001b[38;5;241m.\u001b[39mcluster_centers_[:,\u001b[38;5;241m0\u001b[39m], \u001b[43mkmeans\u001b[49m\u001b[38;5;241;43m.\u001b[39;49m\u001b[43mcluster_center_\u001b[49m[:,\u001b[38;5;241m1\u001b[39m], s\u001b[38;5;241m=\u001b[39m \u001b[38;5;241m100\u001b[39m, c\u001b[38;5;241m=\u001b[39m\u001b[38;5;124m'\u001b[39m\u001b[38;5;124mblack\u001b[39m\u001b[38;5;124m'\u001b[39m, label \u001b[38;5;241m=\u001b[39m \u001b[38;5;124m\"\u001b[39m\u001b[38;5;124mcentroides\u001b[39m\u001b[38;5;124m\"\u001b[39m)\n",
      "\u001b[1;31mAttributeError\u001b[0m: 'KMeans' object has no attribute 'cluster_center_'"
     ]
    },
    {
     "data": {
      "image/png": "[encoded data removed]",
      "text/plain": [
       "<Figure size 640x480 with 1 Axes>"
      ]
     },
     "metadata": {},
     "output_type": "display_data"
    }
   ],
   "source": [
    "\"\"\"from sklearn.decomposition import PCA\n",
    "\n",
    "pca = PCA(n_components=2)\n",
    "pca_Matriz=pca.fit_transform(Matriz)\n",
    "pca_Matriz_df = pd.DataFrame(data= pca_Matriz, columns = ['x1', 'x2'])\n",
    "pca_nombres_Matriz = pd.concat([pca_Matriz_df, Matriz[['KMeans_Clusters']]], axis=1)\n",
    "\n",
    "pca_nombres_Matriz\"\"\"\n",
    "plt.scatter(X[y_kmeans == 0,0], X[y_kmeans == 0,1], s=50, c='red', label='x1')\n",
    "plt.scatter(X[y_kmeans == 1,0], X[y_kmeans == 1,1], s=50, c='blue', label='x1')\n",
    "plt.scatter(kmeans.cluster_centers_[:,0], kmeans.cluster_center_[:,1], s= 100, c='black', label = \"centroides\")"
   ]
  },
  {
   "cell_type": "code",
   "execution_count": 10,
   "id": "be7ea45a",
   "metadata": {
    "scrolled": true
   },
   "outputs": [
    {
     "data": {
      "image/png": "[encoded data removed]",
      "text/plain": [
       "<Figure size 1000x1000 with 1 Axes>"
      ]
     },
     "metadata": {},
     "output_type": "display_data"
    }
   ],
   "source": [
    "\"\"\"fig = plt.figure(figsize = (10,10))\n",
    "\n",
    "ax = fig.add_subplot(1,1,1)\n",
    "ax.set_xlabel('x1', fontsize = 15)\n",
    "ax.set_ylabel('x2', fontsize = 15)\n",
    "ax.set_title('KMeans de X1, X2', fontsize = 20)\n",
    "\n",
    "color_theme = np.array([\"blue\", \"green\", \"orange\"])\n",
    "ax.scatter(x = pca_nombres_Matriz.x1, y = pca_nombres_Matriz.x2,\n",
    "          c=color_theme[pca_nombres_Matriz.KMeans_Clusters], s = 50)\n",
    "plt.show()\"\"\"\n"
   ]
  },
  {
   "cell_type": "code",
   "execution_count": null,
   "id": "b70d7d0e",
   "metadata": {},
   "outputs": [],
   "source": []
  }
 ],
 "metadata": {
  "kernelspec": {
   "display_name": "Python 3 (ipykernel)",
   "language": "python",
   "name": "python3"
  },
  "language_info": {
   "codemirror_mode": {
    "name": "ipython",
    "version": 3
   },
   "file_extension": ".py",
   "mimetype": "text/x-python",
   "name": "python",
   "nbconvert_exporter": "python",
   "pygments_lexer": "ipython3",
   "version": "3.11.0rc2"
  }
 },
 "nbformat": 4,
 "nbformat_minor": 5
}
